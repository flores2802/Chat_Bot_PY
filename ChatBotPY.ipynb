{
  "nbformat": 4,
  "nbformat_minor": 0,
  "metadata": {
    "colab": {
      "provenance": [],
      "authorship_tag": "ABX9TyP1Vxk4KjORUFPmNJHUJTqy",
      "include_colab_link": true
    },
    "kernelspec": {
      "name": "python3",
      "display_name": "Python 3"
    },
    "language_info": {
      "name": "python"
    }
  },
  "cells": [
    {
      "cell_type": "markdown",
      "metadata": {
        "id": "view-in-github",
        "colab_type": "text"
      },
      "source": [
        "<a href=\"https://colab.research.google.com/github/flores2802/Chat_Bot_PY/blob/main/ChatBotPY.ipynb\" target=\"_parent\"><img src=\"https://colab.research.google.com/assets/colab-badge.svg\" alt=\"Open In Colab\"/></a>"
      ]
    },
    {
      "cell_type": "code",
      "source": [
        "# criando meu simples ChatBot #\n",
        "\n",
        "!pip install -q -U google-generativeai\n",
        "\n",
        "chat = model.start_chat(history=[])\n",
        "\n",
        "prompt = input('Esperando prompt: ')\n",
        "\n",
        "while prompt != 'fim':\n",
        "  response = chat.send_message(prompt)\n",
        "  print('Resposta: ' , response.text , '\\n')\n",
        "  prompt = input('Esperando prompt: ')\n",
        "\n"
      ],
      "metadata": {
        "id": "QfV_4rxWfdHs"
      },
      "execution_count": null,
      "outputs": []
    },
    {
      "cell_type": "markdown",
      "source": [
        "***!pip install -q -U google-generativeai*** - faz a instalação da biblioteca google-generativeai e atualiza para a sua última versão;\n",
        "\n",
        "--------------------------------------------------------------------------------\n",
        "\n",
        "***chat = model.start_chat(history[])*** - esclarecendo a função do comando \"model.start_chat\", indicando que ele inicia uma conversa com o modelo. Nesse caso, modelo de linguagem generativa;\n",
        "\n",
        "--------------------------------------------------------------------------------\n",
        "\n",
        "***prompt = input('Esperando prompt: ')*** - faz a solicitação do prompt/comando inicial realizada pelo usuário;\n",
        "\n",
        "--------------------------------------------------------------------------------\n",
        "\n",
        "***while prompt != 'fim':*** - cria-se um loop principal da conversa;\n",
        "\n",
        "--------------------------------------------------------------------------------\n",
        "\n",
        "***response = chat.send_message(prompt)*** - realiza o envio do prompt fornecido pelo usuário para o modelo;\n",
        "\n",
        "--------------------------------------------------------------------------------\n",
        "\n",
        "***print('Resposta: ' , response.text , '\\n')*** - exibe a resposta do modelo na tela e quebra uma linha;\n",
        "\n",
        "--------------------------------------------------------------------------------\n",
        "\n",
        "***prompt = input('Esperando prompt: ')*** - explica a função do comando input dentro do loop, que pede novos prompts do usuário até que ele digite \"fim\"."
      ],
      "metadata": {
        "id": "Twaqy0YNxH7s"
      }
    },
    {
      "cell_type": "code",
      "source": [
        "# Para uma formatação mais organizada e clara, podemos fazer da seguinte forma #\n",
        "\n",
        "import textwrap\n",
        "from IPython.display import display\n",
        "from IPython.display import Markdown\n",
        "\n",
        "def to_markdown(text):\n",
        "  text = text.replace('•', '  *')\n",
        "  return Markdown(textwrap.indent(text, '> ', predicate=lambda _: True))\n",
        "\n",
        "for message in chat.history:\n",
        "  display(to_markdown(f'**{message.role}**: {message.parts[0].text}'))\n",
        "  print('-------------------------------------------')"
      ],
      "metadata": {
        "id": "Plky9knKp4gv"
      },
      "execution_count": null,
      "outputs": []
    },
    {
      "cell_type": "markdown",
      "source": [
        "***import textwrap*** -  essa linha importa o ***textwrap*** módulo, que fornece funções para formatação de texto, como recuo e quebra automática;\n",
        "\n",
        "--------------------------------------------------------------------------------\n",
        "\n",
        "***from IPython.display import display*** -  importa a ***display*** função do ***IPython.display*** módulo;\n",
        "\n",
        "--------------------------------------------------------------------------------\n",
        "\n",
        "***from IPython.display import Markdown*** -  importa a ***Markdown*** função do ***IPython.display*** módulo. Essa função permite converter texto simples para o formato Markdown;\n",
        "\n",
        "--------------------------------------------------------------------------------\n",
        "\n",
        "***def to_markdown(text):*** -  define uma função chamada to_markdown que recebe um único argumento, text. A função foi projetada para converter texto simples no formato Markdown;\n",
        "\n",
        "--------------------------------------------------------------------------------\n",
        "\n",
        "***text = text.replace***('•', '  *')  -  substitui o caractere de marcador • (se presente) no text com * (um espaço seguido por um asterisco). O espaço é adicionado antes do asterisco para garantir o recuo adequado nas listas Markdown;\n",
        "\n",
        "--------------------------------------------------------------------------------\n",
        "\n",
        "***return Markdown(textwrap.indent(text, '> ', predicate=lambda _: True))*** -  retorna um Markdown objeto criado a partir do recuo text. A \"textwrap.indent\" função recua cada linha do text with > (um único espaço seguido por um sinal de maior que). O \"predicate=lambda _: True\" argumento é usado para garantir que todas as linhas textsejam recuadas, independentemente de seu conteúdo;\n",
        "\n",
        "--------------------------------------------------------------------------------\n",
        "\n",
        "***for message in chat.history:*** -  esta linha itera através de cada mensagem na chat.history lista (assumindo que chat é um objeto que possui um history atributo contendo uma lista de mensagens);\n",
        "\n",
        "--------------------------------------------------------------------------------\n",
        "\n",
        "***display***(to_markdown(f'**{message.role}**: {message.parts[0].text}')) -  chama a display função (importada de IPython.display) para exibir a mensagem formatada. Dentro da display função, a \"to_markdownfunção\" é usada para converter a mensagem no formato Markdown. O \"f-string\"(string literal formatado) é usado para criar o conteúdo da mensagem combinando a mensagem role (provavelmente indicando o remetente). Este texto formatado é então passado para a \"to_markdownfunção\";\n",
        "\n",
        "--------------------------------------------------------------------------------\n",
        "\n",
        "***print('-------------------------------------------')*** -  imprime uma linha de travessões para criar um separador visual entre as mensagens.\n"
      ],
      "metadata": {
        "id": "GeZwh-_6qWHm"
      }
    }
  ]
}